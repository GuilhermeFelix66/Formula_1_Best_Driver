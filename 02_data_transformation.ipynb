{
 "cells": [
  {
   "cell_type": "code",
   "execution_count": 3,
   "id": "ce028f40",
   "metadata": {},
   "outputs": [],
   "source": [
    "import pandas as pd\n",
    "\n",
    "# File import\n",
    "df = pd.read_csv(\"winners_f1_1950_2025_v2.csv\")\n"
   ]
  },
  {
   "cell_type": "code",
   "execution_count": 4,
   "id": "a9778a66",
   "metadata": {},
   "outputs": [
    {
     "name": "stdout",
     "output_type": "stream",
     "text": [
      "         date      continent     grand_prix                       circuit  \\\n",
      "0  1950-05-13         Europe  Great Britain           Silverstone Circuit   \n",
      "1  1950-05-21         Europe         Monaco             Circuit de Monaco   \n",
      "2  1950-05-30  North America  United States   Indianapolis Motor Speedway   \n",
      "3  1950-06-04         Europe    Switzerland            Circuit Bremgarten   \n",
      "4  1950-06-18         Europe        Belgium  Circuit de Spa Francorchamps   \n",
      "\n",
      "          winner_name                      team      time   laps  year  \n",
      "0         Nino Farina                Alfa Romeo  02:13:23   70.0  1950  \n",
      "1  Juan Manuel Fangio                Alfa Romeo  03:13:18  100.0  1950  \n",
      "2     Johnnie Parsons  Kurtis Kraft Offenhauser  02:46:55  138.0  1950  \n",
      "3         Nino Farina                Alfa Romeo  02:02:53   42.0  1950  \n",
      "4  Juan Manuel Fangio                Alfa Romeo  02:47:26   35.0  1950  \n"
     ]
    },
    {
     "data": {
      "text/html": [
       "<div>\n",
       "<style scoped>\n",
       "    .dataframe tbody tr th:only-of-type {\n",
       "        vertical-align: middle;\n",
       "    }\n",
       "\n",
       "    .dataframe tbody tr th {\n",
       "        vertical-align: top;\n",
       "    }\n",
       "\n",
       "    .dataframe thead th {\n",
       "        text-align: right;\n",
       "    }\n",
       "</style>\n",
       "<table border=\"1\" class=\"dataframe\">\n",
       "  <thead>\n",
       "    <tr style=\"text-align: right;\">\n",
       "      <th></th>\n",
       "      <th>date</th>\n",
       "      <th>continent</th>\n",
       "      <th>grand_prix</th>\n",
       "      <th>circuit</th>\n",
       "      <th>winner_name</th>\n",
       "      <th>team</th>\n",
       "      <th>time</th>\n",
       "      <th>laps</th>\n",
       "      <th>year</th>\n",
       "    </tr>\n",
       "  </thead>\n",
       "  <tbody>\n",
       "    <tr>\n",
       "      <th>1137</th>\n",
       "      <td>2025-06-15</td>\n",
       "      <td>North America</td>\n",
       "      <td>Canada</td>\n",
       "      <td>Circuit Gilles Villeneuve</td>\n",
       "      <td>George Russell</td>\n",
       "      <td>Mercedes</td>\n",
       "      <td>01:31:52</td>\n",
       "      <td>70.0</td>\n",
       "      <td>2025</td>\n",
       "    </tr>\n",
       "    <tr>\n",
       "      <th>1138</th>\n",
       "      <td>2025-06-29</td>\n",
       "      <td>Europe</td>\n",
       "      <td>Austria</td>\n",
       "      <td>Red Bull Ring</td>\n",
       "      <td>Lando Norris</td>\n",
       "      <td>McLaren</td>\n",
       "      <td>01:23:47</td>\n",
       "      <td>70.0</td>\n",
       "      <td>2025</td>\n",
       "    </tr>\n",
       "    <tr>\n",
       "      <th>1139</th>\n",
       "      <td>2025-07-06</td>\n",
       "      <td>Europe</td>\n",
       "      <td>Great Britain</td>\n",
       "      <td>Silverstone Circuit</td>\n",
       "      <td>Lando Norris</td>\n",
       "      <td>McLaren</td>\n",
       "      <td>01:37:15</td>\n",
       "      <td>52.0</td>\n",
       "      <td>2025</td>\n",
       "    </tr>\n",
       "    <tr>\n",
       "      <th>1140</th>\n",
       "      <td>2025-07-27</td>\n",
       "      <td>Europe</td>\n",
       "      <td>Belgium</td>\n",
       "      <td>Circuit de Spa Francorchamps</td>\n",
       "      <td>Oscar Piastri</td>\n",
       "      <td>McLaren</td>\n",
       "      <td>01:25:22</td>\n",
       "      <td>44.0</td>\n",
       "      <td>2025</td>\n",
       "    </tr>\n",
       "    <tr>\n",
       "      <th>1141</th>\n",
       "      <td>2025-08-03</td>\n",
       "      <td>Europe</td>\n",
       "      <td>Hungary</td>\n",
       "      <td>Hungaroring</td>\n",
       "      <td>Lando Norris</td>\n",
       "      <td>McLaren</td>\n",
       "      <td>01:35:21</td>\n",
       "      <td>70.0</td>\n",
       "      <td>2025</td>\n",
       "    </tr>\n",
       "  </tbody>\n",
       "</table>\n",
       "</div>"
      ],
      "text/plain": [
       "            date      continent     grand_prix                       circuit  \\\n",
       "1137  2025-06-15  North America         Canada     Circuit Gilles Villeneuve   \n",
       "1138  2025-06-29         Europe        Austria                 Red Bull Ring   \n",
       "1139  2025-07-06         Europe  Great Britain           Silverstone Circuit   \n",
       "1140  2025-07-27         Europe        Belgium  Circuit de Spa Francorchamps   \n",
       "1141  2025-08-03         Europe        Hungary                   Hungaroring   \n",
       "\n",
       "         winner_name      team      time  laps  year  \n",
       "1137  George Russell  Mercedes  01:31:52  70.0  2025  \n",
       "1138    Lando Norris   McLaren  01:23:47  70.0  2025  \n",
       "1139    Lando Norris   McLaren  01:37:15  52.0  2025  \n",
       "1140   Oscar Piastri   McLaren  01:25:22  44.0  2025  \n",
       "1141    Lando Norris   McLaren  01:35:21  70.0  2025  "
      ]
     },
     "execution_count": 4,
     "metadata": {},
     "output_type": "execute_result"
    }
   ],
   "source": [
    "#Dataset first impressions:\n",
    "print(df.head())\n",
    "df.tail(5)\n"
   ]
  },
  {
   "cell_type": "code",
   "execution_count": 5,
   "id": "ba810e5b",
   "metadata": {},
   "outputs": [
    {
     "name": "stdout",
     "output_type": "stream",
     "text": [
      "date            object\n",
      "continent       object\n",
      "grand_prix      object\n",
      "circuit         object\n",
      "winner_name     object\n",
      "team            object\n",
      "time            object\n",
      "laps           float64\n",
      "year             int64\n",
      "dtype: object\n",
      "The size of the dataset is:  (1142, 9)\n"
     ]
    }
   ],
   "source": [
    "# Veryfing data types\n",
    "\n",
    "print(df.dtypes)\n",
    "\n",
    "# Dataset size\n",
    "\n",
    "print(\"The size of the dataset is: \",(df.shape))\n",
    "\n"
   ]
  },
  {
   "cell_type": "code",
   "execution_count": 6,
   "id": "f1b52876",
   "metadata": {},
   "outputs": [],
   "source": [
    "# ! I have verified that the 'date' and 'time' columns are in string format,\n",
    "# which makes our analysis difficult.\n",
    "\n",
    "# Converting the \"date\" column to datetime format.\n",
    "\n",
    "df['date'] = pd.to_datetime(df['date'])\n",
    "\n",
    "# Converting the \"date\" column to timedelta format.\n",
    "\n",
    "df['time'] = pd.to_timedelta(df['time'], errors='coerce')"
   ]
  },
  {
   "cell_type": "code",
   "execution_count": 7,
   "id": "be9fac60",
   "metadata": {},
   "outputs": [
    {
     "data": {
      "text/plain": [
       "date           0\n",
       "continent      0\n",
       "grand_prix     0\n",
       "circuit        0\n",
       "winner_name    0\n",
       "team           0\n",
       "time           2\n",
       "laps           0\n",
       "year           0\n",
       "dtype: int64"
      ]
     },
     "execution_count": 7,
     "metadata": {},
     "output_type": "execute_result"
    }
   ],
   "source": [
    "# Any null values?\n",
    "\n",
    "df.isnull().sum()\n"
   ]
  },
  {
   "cell_type": "code",
   "execution_count": 8,
   "id": "f31fd930",
   "metadata": {},
   "outputs": [
    {
     "name": "stdout",
     "output_type": "stream",
     "text": [
      "date           0\n",
      "continent      0\n",
      "grand_prix     0\n",
      "circuit        0\n",
      "winner_name    0\n",
      "team           0\n",
      "time           0\n",
      "laps           0\n",
      "year           0\n",
      "dtype: int64\n"
     ]
    }
   ],
   "source": [
    "# \"time\" columns has null values, so:\n",
    "\n",
    "# Handling nulls:\n",
    "\n",
    "# Convert the 'time' column to timedelta type, forcing invalid values to become nulls.\n",
    "\n",
    "df['time'] = pd.to_timedelta(df['time'], errors='coerce')\n",
    "\n",
    "# Fill the null (NaT) values in the 'time' column with a 0-second timedelta.\n",
    "\n",
    "df['time'] = df['time'].fillna(pd.Timedelta(seconds=0))\n",
    "\n",
    "# Veryfing nulls\n",
    "print(df.isnull().sum())"
   ]
  },
  {
   "cell_type": "code",
   "execution_count": 9,
   "id": "4f0bb6b6",
   "metadata": {},
   "outputs": [
    {
     "name": "stdout",
     "output_type": "stream",
     "text": [
      "0      0 days 02:13:23\n",
      "1      0 days 03:13:18\n",
      "2      0 days 02:46:55\n",
      "3      0 days 02:02:53\n",
      "4      0 days 02:47:26\n",
      "             ...      \n",
      "1137   0 days 01:31:52\n",
      "1138   0 days 01:23:47\n",
      "1139   0 days 01:37:15\n",
      "1140   0 days 01:25:22\n",
      "1141   0 days 01:35:21\n",
      "Name: time, Length: 1142, dtype: timedelta64[ns]\n"
     ]
    }
   ],
   "source": [
    "# Checking to see if the 'time' column is in a suitable format to work with:\n",
    "print(df['time'])\n",
    "\n",
    "# Creating a \"seconds\" column (necessary in the future)\n",
    "df['time_segundos'] = df['time'].dt.total_seconds()"
   ]
  }
 ],
 "metadata": {
  "kernelspec": {
   "display_name": "Python 3",
   "language": "python",
   "name": "python3"
  },
  "language_info": {
   "codemirror_mode": {
    "name": "ipython",
    "version": 3
   },
   "file_extension": ".py",
   "mimetype": "text/x-python",
   "name": "python",
   "nbconvert_exporter": "python",
   "pygments_lexer": "ipython3",
   "version": "3.13.0"
  }
 },
 "nbformat": 4,
 "nbformat_minor": 5
}
